{
 "cells": [
  {
   "cell_type": "code",
   "execution_count": 55,
   "metadata": {},
   "outputs": [],
   "source": [
    "import PyPDF2 \n",
    "import boto3  \n",
    "import os  \n",
    "import json\n",
    "\n",
    "textract = boto3.client('textract')\n",
    "s3 = boto3.client('s3')\n",
    "\n",
    "def download_s3_file(s3_uri, local_path):  \n",
    "\n",
    "    # Split the S3 URI to get bucket and key  \n",
    "    s3_components = s3_uri.split('/')  \n",
    "    bucket = s3_components[2]\n",
    "    key = '/'.join(s3_components[3:])  \n",
    "    filename = key.split(\"/\")[-1]\n",
    "    print(bucket, key)\n",
    "    # Create S3 client  \n",
    "\n",
    "    # Download file from S3 to local folder  \n",
    "    s3.download_file(bucket, key, f\"{local_path}/{filename}\")\n",
    "    return f\"{local_path}/{filename}\"\n",
    "\n",
    "\n",
    "def extract_text(file):\n",
    "    with open(file, 'rb') as pdfFileObj:\n",
    "        pdfReader = PyPDF2.PdfReader(pdfFileObj) \n",
    "        count = 0\n",
    "        text = []\n",
    "        for pageObj in pdfReader.pages:\n",
    "            count +=1\n",
    "            text.append(pageObj.extract_text())\n",
    "\n",
    "    return {\"num_pages\":count, \"pages\": text}\n",
    "\n",
    "\n",
    "def upload_json_to_s3(data, s3_uri):  \n",
    "\n",
    "  # Parse S3 URI to get bucket and key  \n",
    "  s3_components = s3_uri.split('/')  \n",
    "  bucket = s3_components[2]  \n",
    "  key = '/'.join(s3_components[3:])  \n",
    "\n",
    "  # Convert Python object to JSON string  \n",
    "  json_data = json.dumps(data)  \n",
    "\n",
    "  # Create S3 client  \n",
    "  s3 = boto3.client('s3')  \n",
    "\n",
    "  # Upload JSON string as a file to S3  \n",
    "  s3.put_object(Body=json_data, Bucket=bucket, Key=key)\n",
    "\n",
    "\n",
    "def amazon_textract_less_5mb(s3_uri):\n",
    "\n",
    "    bucket = s3_uri.split('/')[2]\n",
    "    key =  '/'.join(s3_uri.split('/')[3:])\n",
    "\n",
    "    print(bucket, key)\n",
    "\n",
    "    response = s3.head_object(Bucket=bucket, Key=key)\n",
    "    size = response['ContentLength'] \n",
    "\n",
    "    if size > 5000000:\n",
    "        print(\"Object is greater than 5MB\")\n",
    "    else:\n",
    "        print(\"Object is less than or equal to 5MB\")\n",
    "\n",
    "    response = textract.detect_document_text(\n",
    "        Document={\n",
    "            'S3Object': {\n",
    "                'Bucket': bucket,\n",
    "                'Name': key\n",
    "            }\n",
    "        })\n",
    "    n_pages = response['DocumentMetadata']['Pages']\n",
    "    pages = {}\n",
    "\n",
    "    text = ''\n",
    "    for item in response['Blocks']:\n",
    "        item_id = item['Id']\n",
    "        if item['BlockType'] == 'PAGE':   \n",
    "            relationships = item['Relationships']\n",
    "            for relationship in relationships:\n",
    "                if relationship['Type'] == 'CHILD':\n",
    "                    pages[item_id] = {'CHILDS': relationship['Ids'], 'LINES': []}\n",
    "\n",
    "        if item['BlockType'] == 'LINE':\n",
    "            for page in pages.keys():\n",
    "                if item_id in pages[page]['CHILDS']:\n",
    "                    pages[page]['LINES'].append(item['Text'])\n",
    "\n",
    "\n",
    "    return {\"num_pages\":n_pages, \"pages\": ['\\n'.join(pages[key]['LINES']) for key in pages.keys()]}"
   ]
  },
  {
   "cell_type": "code",
   "execution_count": 34,
   "metadata": {},
   "outputs": [],
   "source": [
    "s3_uri = \"s3://ac-genai-streamlitbucket2fe9c216-4t8poszaf1to/carta para tasacion.pdf\"\n",
    "local_path =\"./\""
   ]
  },
  {
   "cell_type": "code",
   "execution_count": 22,
   "metadata": {},
   "outputs": [
    {
     "name": "stdout",
     "output_type": "stream",
     "text": [
      "ac-genai-streamlitbucket2fe9c216-4t8poszaf1to doc.pdf\n"
     ]
    }
   ],
   "source": [
    "local_file = download_s3_file(s3_uri,local_path)"
   ]
  },
  {
   "cell_type": "code",
   "execution_count": 23,
   "metadata": {},
   "outputs": [],
   "source": [
    "text = extract_text(local_file)"
   ]
  },
  {
   "cell_type": "code",
   "execution_count": 26,
   "metadata": {},
   "outputs": [],
   "source": [
    "upload_json_to_s3(text, f\"{s3_uri}.json\")"
   ]
  },
  {
   "cell_type": "code",
   "execution_count": 56,
   "metadata": {},
   "outputs": [
    {
     "name": "stdout",
     "output_type": "stream",
     "text": [
      "ac-genai-streamlitbucket2fe9c216-4t8poszaf1to carta para tasacion.pdf\n",
      "Object is less than or equal to 5MB\n"
     ]
    }
   ],
   "source": [
    "res = amazon_textract_less_5mb(s3_uri)"
   ]
  },
  {
   "cell_type": "code",
   "execution_count": 57,
   "metadata": {},
   "outputs": [],
   "source": [
    "bucket = s3_uri.split('/')[2]   \n",
    "key =  '/'.join(s3_uri.split('/')[3:])\n",
    "response = s3.head_object(Bucket=bucket, Key=key)"
   ]
  },
  {
   "cell_type": "code",
   "execution_count": 58,
   "metadata": {},
   "outputs": [
    {
     "data": {
      "text/plain": [
       "{'ResponseMetadata': {'RequestId': 'ADCNR2P0XXPSYW85',\n",
       "  'HostId': 'PcB2b5TlIeCTx7fsv6+PEjPKiOp1ffUcqvrSxlMwSka516Ea6Foe3/r745gi2N8m9QzRu18ZBbDxZT6vp5Jq/A==',\n",
       "  'HTTPStatusCode': 200,\n",
       "  'HTTPHeaders': {'x-amz-id-2': 'PcB2b5TlIeCTx7fsv6+PEjPKiOp1ffUcqvrSxlMwSka516Ea6Foe3/r745gi2N8m9QzRu18ZBbDxZT6vp5Jq/A==',\n",
       "   'x-amz-request-id': 'ADCNR2P0XXPSYW85',\n",
       "   'date': 'Thu, 26 Oct 2023 13:14:05 GMT',\n",
       "   'last-modified': 'Thu, 26 Oct 2023 02:17:58 GMT',\n",
       "   'etag': '\"615ea55ac5895a38e304403cbd516b27\"',\n",
       "   'x-amz-server-side-encryption': 'AES256',\n",
       "   'x-amz-version-id': 'Ml.fntvCs2DZ421uBnvjSpc2GM8vvIn9',\n",
       "   'accept-ranges': 'bytes',\n",
       "   'content-type': 'application/pdf',\n",
       "   'server': 'AmazonS3',\n",
       "   'content-length': '566873'},\n",
       "  'RetryAttempts': 0},\n",
       " 'AcceptRanges': 'bytes',\n",
       " 'LastModified': datetime.datetime(2023, 10, 26, 2, 17, 58, tzinfo=tzutc()),\n",
       " 'ContentLength': 566873,\n",
       " 'ETag': '\"615ea55ac5895a38e304403cbd516b27\"',\n",
       " 'VersionId': 'Ml.fntvCs2DZ421uBnvjSpc2GM8vvIn9',\n",
       " 'ContentType': 'application/pdf',\n",
       " 'ServerSideEncryption': 'AES256',\n",
       " 'Metadata': {}}"
      ]
     },
     "execution_count": 58,
     "metadata": {},
     "output_type": "execute_result"
    }
   ],
   "source": [
    "response"
   ]
  },
  {
   "cell_type": "code",
   "execution_count": null,
   "metadata": {},
   "outputs": [],
   "source": []
  }
 ],
 "metadata": {
  "kernelspec": {
   "display_name": ".venv",
   "language": "python",
   "name": "python3"
  },
  "language_info": {
   "codemirror_mode": {
    "name": "ipython",
    "version": 3
   },
   "file_extension": ".py",
   "mimetype": "text/x-python",
   "name": "python",
   "nbconvert_exporter": "python",
   "pygments_lexer": "ipython3",
   "version": "3.11.5"
  }
 },
 "nbformat": 4,
 "nbformat_minor": 2
}
